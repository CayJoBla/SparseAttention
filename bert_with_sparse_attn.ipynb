{
 "cells": [
  {
   "cell_type": "markdown",
   "metadata": {},
   "source": [
    "# <center> BERT with Sparse Attention"
   ]
  },
  {
   "cell_type": "markdown",
   "metadata": {},
   "source": [
    "Many of the recent advances in NLP have come largely due to the fact that the size of these models is simply getting larger. There are many models that work excellently, but need to be run on a configuration of 8+ high-end GPUs or TPUs, making it extremely difficult for the average consumer or developer to play around with these models and come up with new advances and ideas of their own. However, recent work, such as that seen in the [Longformer paper](https://arxiv.org/pdf/2004.05150.pdf), suggests that the attention mechanism that is present in these language models does not need to be dense, and can be employed with sparse matrix operations in order to increase the context length. Furthermore, signs point to the idea that the new [GPT 4 Turbo model](https://help.openai.com/en/articles/8555510-gpt-4-turbo) employs these sparse matrix operations in order to increase its context window. The attention mechanism employed by these transformer models has become the staple for NLP ever since the release of the [\"Attention is All You Need\"](https://arxiv.org/pdf/1706.03762.pdf) paper. However, with the introduction of working sparse attention models, a new question arises: **How much attention do we really need?**. In this project, I aim to use the `pytorch-block-sparse` package in order to implement this sparse attention mechanism into the existing base BERT model, following the sparsity pattern outlined in the Longformer paper. However, in contrast to that paper, by doing this I aim to decrease the overall size of the BERT model instead of trying to increase the model's context length."
   ]
  },
  {
   "cell_type": "markdown",
   "metadata": {},
   "source": [
    "## Converting to Dense-Sparse"
   ]
  },
  {
   "cell_type": "markdown",
   "metadata": {},
   "source": [
    "First, we try converting the attention layers of the BERT model into dense representations of the sparse attention pattern"
   ]
  },
  {
   "cell_type": "markdown",
   "metadata": {},
   "source": [
    "### Load the base BERT model"
   ]
  },
  {
   "cell_type": "code",
   "execution_count": 1,
   "metadata": {},
   "outputs": [],
   "source": [
    "from transformers import AutoModel\n",
    "\n",
    "bert = AutoModel.from_pretrained(\"bert-base-uncased\")"
   ]
  },
  {
   "cell_type": "code",
   "execution_count": 2,
   "metadata": {},
   "outputs": [
    {
     "data": {
      "text/plain": [
       "BertModel(\n",
       "  (embeddings): BertEmbeddings(\n",
       "    (word_embeddings): Embedding(30522, 768, padding_idx=0)\n",
       "    (position_embeddings): Embedding(512, 768)\n",
       "    (token_type_embeddings): Embedding(2, 768)\n",
       "    (LayerNorm): LayerNorm((768,), eps=1e-12, elementwise_affine=True)\n",
       "    (dropout): Dropout(p=0.1, inplace=False)\n",
       "  )\n",
       "  (encoder): BertEncoder(\n",
       "    (layer): ModuleList(\n",
       "      (0-11): 12 x BertLayer(\n",
       "        (attention): BertAttention(\n",
       "          (self): BertSelfAttention(\n",
       "            (query): Linear(in_features=768, out_features=768, bias=True)\n",
       "            (key): Linear(in_features=768, out_features=768, bias=True)\n",
       "            (value): Linear(in_features=768, out_features=768, bias=True)\n",
       "            (dropout): Dropout(p=0.1, inplace=False)\n",
       "          )\n",
       "          (output): BertSelfOutput(\n",
       "            (dense): Linear(in_features=768, out_features=768, bias=True)\n",
       "            (LayerNorm): LayerNorm((768,), eps=1e-12, elementwise_affine=True)\n",
       "            (dropout): Dropout(p=0.1, inplace=False)\n",
       "          )\n",
       "        )\n",
       "        (intermediate): BertIntermediate(\n",
       "          (dense): Linear(in_features=768, out_features=3072, bias=True)\n",
       "          (intermediate_act_fn): GELUActivation()\n",
       "        )\n",
       "        (output): BertOutput(\n",
       "          (dense): Linear(in_features=3072, out_features=768, bias=True)\n",
       "          (LayerNorm): LayerNorm((768,), eps=1e-12, elementwise_affine=True)\n",
       "          (dropout): Dropout(p=0.1, inplace=False)\n",
       "        )\n",
       "      )\n",
       "    )\n",
       "  )\n",
       "  (pooler): BertPooler(\n",
       "    (dense): Linear(in_features=768, out_features=768, bias=True)\n",
       "    (activation): Tanh()\n",
       "  )\n",
       ")"
      ]
     },
     "execution_count": 2,
     "metadata": {},
     "output_type": "execute_result"
    }
   ],
   "source": [
    "bert    # Look at the structure of the model  "
   ]
  },
  {
   "cell_type": "markdown",
   "metadata": {},
   "source": [
    "### Testing with a single layer"
   ]
  },
  {
   "cell_type": "markdown",
   "metadata": {},
   "source": [
    "We first test converting a single attention layer (including the Q, K, and V weights) to sparse versions. Here, the tensors themselves are still dense, but weights that would be 0 in the true sparse matrix are set as such."
   ]
  },
  {
   "cell_type": "code",
   "execution_count": 3,
   "metadata": {},
   "outputs": [
    {
     "data": {
      "text/plain": [
       "BertSelfAttention(\n",
       "  (query): Linear(in_features=768, out_features=768, bias=True)\n",
       "  (key): Linear(in_features=768, out_features=768, bias=True)\n",
       "  (value): Linear(in_features=768, out_features=768, bias=True)\n",
       "  (dropout): Dropout(p=0.1, inplace=False)\n",
       ")"
      ]
     },
     "execution_count": 3,
     "metadata": {},
     "output_type": "execute_result"
    }
   ],
   "source": [
    "# Grab the 0th attention mechanism\n",
    "attn0 = bert.encoder.layer[0].attention.self\n",
    "attn0"
   ]
  },
  {
   "cell_type": "code",
   "execution_count": 4,
   "metadata": {},
   "outputs": [
    {
     "data": {
      "text/plain": [
       "tensor([[-0.0164,  0.0261, -0.0263,  ...,  0.0154,  0.0768,  0.0548],\n",
       "        [-0.0326,  0.0346, -0.0423,  ..., -0.0527,  0.1393,  0.0078],\n",
       "        [ 0.0105,  0.0334,  0.0109,  ..., -0.0279,  0.0258, -0.0468],\n",
       "        ...,\n",
       "        [-0.0085,  0.0514,  0.0555,  ...,  0.0282,  0.0543, -0.0541],\n",
       "        [-0.0198,  0.0944,  0.0617,  ..., -0.1042,  0.0601,  0.0470],\n",
       "        [ 0.0015, -0.0952,  0.0099,  ..., -0.0191, -0.0508, -0.0085]])"
      ]
     },
     "execution_count": 4,
     "metadata": {},
     "output_type": "execute_result"
    }
   ],
   "source": [
    "Q, K, V = attn0.query.weight.data, attn0.key.weight.data, attn0.value.weight.data\n",
    "Q"
   ]
  },
  {
   "cell_type": "markdown",
   "metadata": {},
   "source": [
    "##### Define the Sparsity Structure"
   ]
  },
  {
   "cell_type": "markdown",
   "metadata": {},
   "source": [
    "We focus on using the sliding window structure for the attention mechanism. "
   ]
  },
  {
   "cell_type": "code",
   "execution_count": 5,
   "metadata": {},
   "outputs": [],
   "source": [
    "import torch\n",
    "\n",
    "def get_sliding_window(weights, window_size=4):\n",
    "    \"\"\"\n",
    "    Keep only the weights within a specified window along the diagonals of the attention weight tensor.\n",
    "\n",
    "    Parameters:\n",
    "        weight (torch.Tensor): Attention weight tensor\n",
    "        window_size (int): Size of the window along the diagonals\n",
    "\n",
    "    Returns:\n",
    "        (torch.Tensor): Sparse attention weight tensor with values outside the window set to 0\n",
    "    \"\"\"\n",
    "    assert weights.dim() == 2, \"Input tensor must be 2D\"\n",
    "    assert weights.size(0) == weights.size(1), \"Input tensor must be square\"\n",
    "    assert window_size % 2 == 0, \"Window size must be an even number\"\n",
    "\n",
    "    # Create mask\n",
    "    idx = torch.arange(weights.size(0))\n",
    "    diag_idx = idx.unsqueeze(0) - idx.unsqueeze(1)\n",
    "    mask = diag_idx.abs() < window_size//2 + 1\n",
    "\n",
    "    return weights * mask.float()"
   ]
  },
  {
   "cell_type": "code",
   "execution_count": 6,
   "metadata": {},
   "outputs": [
    {
     "data": {
      "text/plain": [
       "tensor([[-0.0164,  0.0261, -0.0000,  ...,  0.0000,  0.0000,  0.0000],\n",
       "        [-0.0326,  0.0346, -0.0423,  ..., -0.0000,  0.0000,  0.0000],\n",
       "        [ 0.0000,  0.0334,  0.0109,  ..., -0.0000,  0.0000, -0.0000],\n",
       "        ...,\n",
       "        [-0.0000,  0.0000,  0.0000,  ...,  0.0282,  0.0543, -0.0000],\n",
       "        [-0.0000,  0.0000,  0.0000,  ..., -0.1042,  0.0601,  0.0470],\n",
       "        [ 0.0000, -0.0000,  0.0000,  ..., -0.0000, -0.0508, -0.0085]])"
      ]
     },
     "execution_count": 6,
     "metadata": {},
     "output_type": "execute_result"
    }
   ],
   "source": [
    "get_sliding_window(Q, 2)"
   ]
  },
  {
   "cell_type": "markdown",
   "metadata": {},
   "source": [
    "### Convert All Attention Layers"
   ]
  },
  {
   "cell_type": "markdown",
   "metadata": {},
   "source": [
    "We convert each attention layer of the base BERT model to a dense-sparse version using a sliding window sparsity. The weights are not truly sparse, we just set values to zero that do not fall along the sliding window."
   ]
  },
  {
   "cell_type": "code",
   "execution_count": 7,
   "metadata": {},
   "outputs": [],
   "source": [
    "def dense_sparse_convert(model, sparsify_fn, **kwargs):\n",
    "    \"\"\"Replace the dense attention weights in a model with sparse ones.\"\"\"\n",
    "    for bert_layer in model.encoder.layer:\n",
    "        attn = bert_layer.attention.self\n",
    "        attn.query.weight.data = sparsify_fn(attn.query.weight.data, **kwargs)\n",
    "        attn.key.weight.data = sparsify_fn(attn.key.weight.data, **kwargs)\n",
    "        attn.value.weight.data = sparsify_fn(attn.value.weight.data, **kwargs)\n",
    "    return model"
   ]
  },
  {
   "cell_type": "code",
   "execution_count": 8,
   "metadata": {},
   "outputs": [],
   "source": [
    "window_size = 64\n",
    "sparse_bert = dense_sparse_convert(bert, get_sliding_window, window_size=window_size)"
   ]
  },
  {
   "cell_type": "code",
   "execution_count": 9,
   "metadata": {},
   "outputs": [
    {
     "data": {
      "text/plain": [
       "BertModel(\n",
       "  (embeddings): BertEmbeddings(\n",
       "    (word_embeddings): Embedding(30522, 768, padding_idx=0)\n",
       "    (position_embeddings): Embedding(512, 768)\n",
       "    (token_type_embeddings): Embedding(2, 768)\n",
       "    (LayerNorm): LayerNorm((768,), eps=1e-12, elementwise_affine=True)\n",
       "    (dropout): Dropout(p=0.1, inplace=False)\n",
       "  )\n",
       "  (encoder): BertEncoder(\n",
       "    (layer): ModuleList(\n",
       "      (0-11): 12 x BertLayer(\n",
       "        (attention): BertAttention(\n",
       "          (self): BertSelfAttention(\n",
       "            (query): Linear(in_features=768, out_features=768, bias=True)\n",
       "            (key): Linear(in_features=768, out_features=768, bias=True)\n",
       "            (value): Linear(in_features=768, out_features=768, bias=True)\n",
       "            (dropout): Dropout(p=0.1, inplace=False)\n",
       "          )\n",
       "          (output): BertSelfOutput(\n",
       "            (dense): Linear(in_features=768, out_features=768, bias=True)\n",
       "            (LayerNorm): LayerNorm((768,), eps=1e-12, elementwise_affine=True)\n",
       "            (dropout): Dropout(p=0.1, inplace=False)\n",
       "          )\n",
       "        )\n",
       "        (intermediate): BertIntermediate(\n",
       "          (dense): Linear(in_features=768, out_features=3072, bias=True)\n",
       "          (intermediate_act_fn): GELUActivation()\n",
       "        )\n",
       "        (output): BertOutput(\n",
       "          (dense): Linear(in_features=3072, out_features=768, bias=True)\n",
       "          (LayerNorm): LayerNorm((768,), eps=1e-12, elementwise_affine=True)\n",
       "          (dropout): Dropout(p=0.1, inplace=False)\n",
       "        )\n",
       "      )\n",
       "    )\n",
       "  )\n",
       "  (pooler): BertPooler(\n",
       "    (dense): Linear(in_features=768, out_features=768, bias=True)\n",
       "    (activation): Tanh()\n",
       "  )\n",
       ")"
      ]
     },
     "execution_count": 9,
     "metadata": {},
     "output_type": "execute_result"
    }
   ],
   "source": [
    "sparse_bert     # Verify the integrity of the model structure"
   ]
  },
  {
   "cell_type": "code",
   "execution_count": 10,
   "metadata": {},
   "outputs": [
    {
     "data": {
      "text/plain": [
       "tensor([[-0.0164,  0.0261, -0.0263,  ...,  0.0000,  0.0000,  0.0000],\n",
       "        [-0.0326,  0.0346, -0.0423,  ..., -0.0000,  0.0000,  0.0000],\n",
       "        [ 0.0105,  0.0334,  0.0109,  ..., -0.0000,  0.0000, -0.0000],\n",
       "        ...,\n",
       "        [-0.0000,  0.0000,  0.0000,  ...,  0.0282,  0.0543, -0.0541],\n",
       "        [-0.0000,  0.0000,  0.0000,  ..., -0.1042,  0.0601,  0.0470],\n",
       "        [ 0.0000, -0.0000,  0.0000,  ..., -0.0191, -0.0508, -0.0085]])"
      ]
     },
     "execution_count": 10,
     "metadata": {},
     "output_type": "execute_result"
    }
   ],
   "source": [
    "sparse_bert.encoder.layer[0].attention.self.query.weight.data  # The weights are sparsified successfully"
   ]
  },
  {
   "cell_type": "markdown",
   "metadata": {},
   "source": [
    "## Convert to Block Sparse"
   ]
  },
  {
   "cell_type": "markdown",
   "metadata": {},
   "source": [
    "Using the `pytorch-block-sparse` package, I convert the dense-sparse attention layers to truly sparse linear modules. The package already has a way to initialize a sparse linear layer from a dense one; however, it is meant to be used with fully dense layers and a provided density ratio, thus implementing sparsity in its own way. Here, I want to maintain the chosen sparsity pattern, essentially creating a block sparse matrix, where blocks of zeros are not stored. In order to do that, I rewrite some of the class itself, allowing it to call methods of the `BlockSparseMatrix` class and define where the sparse blocks lie."
   ]
  },
  {
   "cell_type": "code",
   "execution_count": 11,
   "metadata": {},
   "outputs": [],
   "source": [
    "from pytorch_block_sparse import BlockSparseMatrix\n",
    "\n",
    "def get_blocks(weights, block_shape):\n",
    "    \"\"\"Returns the block indices for a sliding window pseudo-sparse weight matrix.\"\"\"\n",
    "    window_size = compute_window_size(weights)\n",
    "    half_window = window_size // 2\n",
    "\n",
    "    assert half_window % block_shape[0] == 0, \"Half window must be divisible by block shape\"\n",
    "    blocks_per_window = half_window // block_shape[0]\n",
    "\n",
    "    # Create block mask\n",
    "    X, Y = BlockSparseMatrix.blocks_count_(weights.size(), block_shape)\n",
    "    diag_idx = torch.arange(X).unsqueeze(0) - torch.arange(Y).unsqueeze(1)\n",
    "    return (diag_idx.abs() <= blocks_per_window).nonzero()\n",
    "\n",
    "def compute_window_size(weights):\n",
    "    \"\"\"Compute the window size for a psuedo-sparse weight matrix.\"\"\"\n",
    "    assert weights.dim() == 2, \"Input tensor must be 2D\"\n",
    "    assert weights.size(0) > 0 and weights.size(1) > 0, \"Input tensor must be non-empty\"\n",
    "    \n",
    "    return (weights[0].nonzero().max().item()) * 2\n",
    "\n",
    "def compute_density(sparse_weights):\n",
    "    \"\"\"Compute the density of a psuedo-sparse weight matrix.\"\"\"\n",
    "    total_size = sparse_weights.shape[0] * sparse_weights.shape[1]\n",
    "    sparse_size = sparse_weights.data.shape[0]  * sparse_weights.data.shape[1] \n",
    "    return sparse_size / total_size"
   ]
  },
  {
   "cell_type": "code",
   "execution_count": 12,
   "metadata": {},
   "outputs": [],
   "source": [
    "from pytorch_block_sparse import BlockSparseLinear, BlockSparseMatrix\n",
    "from pytorch_block_sparse.block_sparse_linear import BlockSparseLinearFunction\n",
    "from torch import nn\n",
    "\n",
    "class BlockSparseFromLinear(BlockSparseLinear):\n",
    "    \"\"\"Our implementation of the BlockSparseLinear layer. \n",
    "    Requires the external get_blocks and compute_window_size functions.\n",
    "    \"\"\"\n",
    "    OPTIMIZED_BLOCK_SIZE = 32\n",
    "\n",
    "    def __init__(\n",
    "        self,\n",
    "        torch_nn_linear,        # Only use values from the linear layer (no in_size, out_size, bias, etc.)\n",
    "        verbose = False,\n",
    "        **kwargs                # Pass any additional arguments to the sparsify function\n",
    "    ):\n",
    "        super(BlockSparseLinear, self).__init__()\n",
    "        self.fn = BlockSparseLinearFunction.apply\n",
    "        self.verbose = verbose\n",
    "        self.block_shape = (self.OPTIMIZED_BLOCK_SIZE, self.OPTIMIZED_BLOCK_SIZE)   # Modify to always set block size to optimal (32x32)\n",
    "        self._optimized = (\n",
    "            self.block_shape[0] == self.OPTIMIZED_BLOCK_SIZE and self.block_shape[1] == self.OPTIMIZED_BLOCK_SIZE\n",
    "        )\n",
    "\n",
    "        # Modify to use values from the linear layer\n",
    "        in_features = torch_nn_linear.in_features\n",
    "        out_features = torch_nn_linear.out_features\n",
    "        bias = torch_nn_linear.bias is not None\n",
    "        weight = torch_nn_linear.weight.data\n",
    "\n",
    "        if in_features % self.block_shape[1] != 0:\n",
    "            raise Exception(\n",
    "                f\"BlockSparseLinear invalid block_shape={self.block_shape[1]}, should be divisor of {in_features}\"\n",
    "            )\n",
    "        if out_features % self.block_shape[0] != 0:\n",
    "            raise Exception(\n",
    "                f\"BlockSparseLinear invalid block_shape={self.block_shape[0]}, should be divisor of {out_features}\"\n",
    "            )\n",
    "        self.in_features = in_features\n",
    "        self.out_features = out_features\n",
    "\n",
    "        # Get the block indices and number of blocks\n",
    "        blocks = get_blocks(weight, self.block_shape)\n",
    "        self.block_count = len(blocks)\n",
    "        \n",
    "        with torch.no_grad():\n",
    "            weight = BlockSparseMatrix.from_dense(weight, self.block_shape, self.block_count, blocks=blocks)\n",
    "\n",
    "        self.weight = weight\n",
    "\n",
    "        if bias:\n",
    "            self.bias = nn.Parameter(torch.zeros(out_features, device=\"cuda\"))\n",
    "            with torch.no_grad():\n",
    "                self.bias.copy_(torch_nn_linear.bias)\n",
    "        else:\n",
    "            self.register_parameter(\"bias\", None)\n"
   ]
  },
  {
   "cell_type": "code",
   "execution_count": 13,
   "metadata": {},
   "outputs": [
    {
     "data": {
      "text/plain": [
       "Parameter containing:\n",
       "tensor([[-0.0164,  0.0261, -0.0263,  ...,  0.0000,  0.0000,  0.0000],\n",
       "        [-0.0326,  0.0346, -0.0423,  ..., -0.0000,  0.0000,  0.0000],\n",
       "        [ 0.0105,  0.0334,  0.0109,  ..., -0.0000,  0.0000, -0.0000],\n",
       "        ...,\n",
       "        [-0.0000,  0.0000,  0.0000,  ...,  0.0282,  0.0543, -0.0541],\n",
       "        [-0.0000,  0.0000,  0.0000,  ..., -0.1042,  0.0601,  0.0470],\n",
       "        [ 0.0000, -0.0000,  0.0000,  ..., -0.0191, -0.0508, -0.0085]],\n",
       "       requires_grad=True)"
      ]
     },
     "execution_count": 13,
     "metadata": {},
     "output_type": "execute_result"
    }
   ],
   "source": [
    "sparse_Q = sparse_bert.encoder.layer[0].attention.self.query\n",
    "sparse_Q.weight"
   ]
  },
  {
   "cell_type": "code",
   "execution_count": 14,
   "metadata": {},
   "outputs": [
    {
     "data": {
      "text/plain": [
       "BlockSparseFromLinear(\n",
       "  (weight): BlockSparseMatrix(shape=torch.Size([768, 768]), cols=torch.Size([70, 2]), row_start_ends_a=torch.Size([25]), data=torch.Size([2240, 32]), block_shape=(32, 32))\n",
       ")"
      ]
     },
     "execution_count": 14,
     "metadata": {},
     "output_type": "execute_result"
    }
   ],
   "source": [
    "from pytorch_block_sparse import BlockSparseLinear\n",
    "\n",
    "# Try on a single pseudo-sparse weight matrix\n",
    "sparse_Q_linear = BlockSparseFromLinear(torch_nn_linear=sparse_Q)\n",
    "sparse_Q_linear"
   ]
  },
  {
   "cell_type": "code",
   "execution_count": 15,
   "metadata": {},
   "outputs": [
    {
     "name": "stdout",
     "output_type": "stream",
     "text": [
      "Sparsity = 0.8784722222222222\n"
     ]
    }
   ],
   "source": [
    "print(\"Sparsity =\", 1-compute_density(sparse_Q_linear.weight))"
   ]
  },
  {
   "cell_type": "code",
   "execution_count": 16,
   "metadata": {},
   "outputs": [
    {
     "name": "stderr",
     "output_type": "stream",
     "text": [
      "/home/yungdankblast/SparseAttention/.venv/lib/python3.10/site-packages/pytorch_block_sparse-0.1.2-py3.10-linux-x86_64.egg/pytorch_block_sparse/block_sparse.py:414: UserWarning: torch.sparse.SparseTensor(indices, values, shape, *, device=) is deprecated.  Please use torch.sparse_coo_tensor(indices, values, shape, dtype=, device=). (Triggered internally at ../torch/csrc/utils/tensor_new.cpp:605.)\n",
      "  out = torch.sparse.FloatTensor(\n"
     ]
    },
    {
     "data": {
      "text/plain": [
       "True"
      ]
     },
     "execution_count": 16,
     "metadata": {},
     "output_type": "execute_result"
    }
   ],
   "source": [
    "torch.allclose(sparse_Q.weight, sparse_Q_linear.weight.to_dense())"
   ]
  },
  {
   "cell_type": "markdown",
   "metadata": {},
   "source": [
    "From the above outputs, we can see that we are now successfully storing the weight matrix using sparse block matrix form. With our window size of 64 and our block size of 32x32 (which is the optimal size defined by the package), we get 70 total blocks. This results in a sparsity of almost 88%. We will now go ahead and convert the rest of the attention layers in the BERT model to the sparse block matrix form."
   ]
  },
  {
   "cell_type": "markdown",
   "metadata": {},
   "source": [
    "### Convert the model"
   ]
  },
  {
   "cell_type": "code",
   "execution_count": 17,
   "metadata": {},
   "outputs": [],
   "source": [
    "def sparse_convert(sparse_model, **kwargs):\n",
    "    \"\"\"Convert the psuedo-sparse attention weights in a model to block sparse ones.\"\"\"\n",
    "    for layer in sparse_model.encoder.layer:\n",
    "        attn = layer.attention.self\n",
    "        attn.query = BlockSparseFromLinear(attn.query, **kwargs)\n",
    "        attn.key = BlockSparseFromLinear(attn.key, **kwargs)\n",
    "        attn.value = BlockSparseFromLinear(attn.value, **kwargs)\n",
    "    return sparse_model"
   ]
  },
  {
   "cell_type": "code",
   "execution_count": 18,
   "metadata": {},
   "outputs": [
    {
     "data": {
      "text/plain": [
       "BertModel(\n",
       "  (embeddings): BertEmbeddings(\n",
       "    (word_embeddings): Embedding(30522, 768, padding_idx=0)\n",
       "    (position_embeddings): Embedding(512, 768)\n",
       "    (token_type_embeddings): Embedding(2, 768)\n",
       "    (LayerNorm): LayerNorm((768,), eps=1e-12, elementwise_affine=True)\n",
       "    (dropout): Dropout(p=0.1, inplace=False)\n",
       "  )\n",
       "  (encoder): BertEncoder(\n",
       "    (layer): ModuleList(\n",
       "      (0-11): 12 x BertLayer(\n",
       "        (attention): BertAttention(\n",
       "          (self): BertSelfAttention(\n",
       "            (query): BlockSparseFromLinear(\n",
       "              (weight): BlockSparseMatrix(shape=torch.Size([768, 768]), cols=torch.Size([70, 2]), row_start_ends_a=torch.Size([25]), data=torch.Size([2240, 32]), block_shape=(32, 32))\n",
       "            )\n",
       "            (key): BlockSparseFromLinear(\n",
       "              (weight): BlockSparseMatrix(shape=torch.Size([768, 768]), cols=torch.Size([70, 2]), row_start_ends_a=torch.Size([25]), data=torch.Size([2240, 32]), block_shape=(32, 32))\n",
       "            )\n",
       "            (value): BlockSparseFromLinear(\n",
       "              (weight): BlockSparseMatrix(shape=torch.Size([768, 768]), cols=torch.Size([70, 2]), row_start_ends_a=torch.Size([25]), data=torch.Size([2240, 32]), block_shape=(32, 32))\n",
       "            )\n",
       "            (dropout): Dropout(p=0.1, inplace=False)\n",
       "          )\n",
       "          (output): BertSelfOutput(\n",
       "            (dense): Linear(in_features=768, out_features=768, bias=True)\n",
       "            (LayerNorm): LayerNorm((768,), eps=1e-12, elementwise_affine=True)\n",
       "            (dropout): Dropout(p=0.1, inplace=False)\n",
       "          )\n",
       "        )\n",
       "        (intermediate): BertIntermediate(\n",
       "          (dense): Linear(in_features=768, out_features=3072, bias=True)\n",
       "          (intermediate_act_fn): GELUActivation()\n",
       "        )\n",
       "        (output): BertOutput(\n",
       "          (dense): Linear(in_features=3072, out_features=768, bias=True)\n",
       "          (LayerNorm): LayerNorm((768,), eps=1e-12, elementwise_affine=True)\n",
       "          (dropout): Dropout(p=0.1, inplace=False)\n",
       "        )\n",
       "      )\n",
       "    )\n",
       "  )\n",
       "  (pooler): BertPooler(\n",
       "    (dense): Linear(in_features=768, out_features=768, bias=True)\n",
       "    (activation): Tanh()\n",
       "  )\n",
       ")"
      ]
     },
     "execution_count": 18,
     "metadata": {},
     "output_type": "execute_result"
    }
   ],
   "source": [
    "block_sparse_bert = sparse_convert(sparse_bert)\n",
    "block_sparse_bert"
   ]
  },
  {
   "cell_type": "markdown",
   "metadata": {},
   "source": [
    "## Compare the Models"
   ]
  },
  {
   "cell_type": "markdown",
   "metadata": {},
   "source": [
    "Here, I compare the base BERT model and the sparse one. I look at total sparsity and run time for a forward pass through the model."
   ]
  },
  {
   "cell_type": "markdown",
   "metadata": {},
   "source": [
    "### Sparsity"
   ]
  },
  {
   "cell_type": "code",
   "execution_count": 19,
   "metadata": {},
   "outputs": [],
   "source": [
    "# Re-initialize the base BERT model\n",
    "bert = AutoModel.from_pretrained(\"bert-base-uncased\")"
   ]
  },
  {
   "cell_type": "code",
   "execution_count": 20,
   "metadata": {},
   "outputs": [
    {
     "name": "stdout",
     "output_type": "stream",
     "text": [
      "Number of parameters in the dense model: 109482240\n",
      "Number of parameters in the sparse model: 90829056\n",
      "Total sparsity: 0.17037634597173024\n"
     ]
    }
   ],
   "source": [
    "bert_total_params = bert.num_parameters()\n",
    "block_sparse_bert_total_params = block_sparse_bert.num_parameters()\n",
    "print(\"Number of parameters in the dense model:\", bert_total_params)\n",
    "print(\"Number of parameters in the sparse model:\", block_sparse_bert_total_params)\n",
    "print(\"Total sparsity:\", 1 - block_sparse_bert_total_params / bert_total_params)"
   ]
  },
  {
   "cell_type": "markdown",
   "metadata": {},
   "source": [
    "Unfortunately, though our attention layers had a sparsity of almost 88%, since we only made the attention layers sparse, the sparsity of the total model is only around 17%, meaning that we have not significant reduced the size of the model. We could look into making the other layers of the model sparse, but it is unclear as to what type of sparsity pattern that we should use. Furthermore, the block sparse pattern that we are using now still has disadvantages, since we still end up saving a good number of zero values. A more optimal storage would be a diagonal sparse matrix representation, where diagonals and off-diagonals are stored as vectors. We compute the sparsity of that storage type below."
   ]
  },
  {
   "cell_type": "code",
   "execution_count": 21,
   "metadata": {},
   "outputs": [],
   "source": [
    "# Assume a window size of 64\n",
    "window_size = 64\n",
    "offsets = torch.arange(-window_size//2, window_size//2+1)\n",
    "sparse_diag_Q = [sparse_Q.weight.data.diag(off) for off in offsets]"
   ]
  },
  {
   "cell_type": "code",
   "execution_count": 22,
   "metadata": {},
   "outputs": [
    {
     "name": "stdout",
     "output_type": "stream",
     "text": [
      "Number of parameters in a single attention layer in the dense model: 589824\n",
      "Number of parameters in a single attention layer in the sparse model: 48864\n",
      "Sparsity: 0.9171549479166666\n"
     ]
    }
   ],
   "source": [
    "# Compute sparsity\n",
    "sparse_diag_params = sum(len(d) for d in sparse_diag_Q)\n",
    "total_params = 768 * 768\n",
    "print(\"Number of parameters in a single attention layer in the dense model:\", total_params)\n",
    "print(\"Number of parameters in a single attention layer in the sparse model:\", sparse_diag_params)\n",
    "print(\"Sparsity:\", 1 - sparse_diag_params / total_params)"
   ]
  },
  {
   "cell_type": "markdown",
   "metadata": {},
   "source": [
    "Thus, with a diagonal sparse matrix, we can get up to almost 92% sparsity in each attention layer. Unfortunately, we are storing the weights in a list here, and tensors have a more defined shape, and so we would likely need to store the diagonals with some zero values if we wanted to store them all on a single tensor for ease in forward computation. This structure also lends itself to sliding window attention patterns with a dilation factor, where cerain tokens are skipped and ignored, as seen in the Longformer paper. This kind of attention pattern could not be efficiently stored in a block-sparse form, as the resulting sparse attention matrix would have alternating diagonals of weights and zeros."
   ]
  },
  {
   "cell_type": "markdown",
   "metadata": {},
   "source": [
    "However, using this optimized storage method would not change much in the number of overall parameters, and we would still have a sparsity of only around 18% on the total model. Therefore, in order to truly reduce the size of the model, we would likely have to sparsify other layers within the BERT model. In the following code block, I use the built-in `BlockSparseModelPatcher` of the `pytorch-block-sparse` package to sparsify other layers in BERT while maintaining the sparsity pattern we set previously for the attention layers."
   ]
  },
  {
   "cell_type": "markdown",
   "metadata": {},
   "source": [
    "#### Sparse patching BERT on non-Attention layers"
   ]
  },
  {
   "cell_type": "code",
   "execution_count": 23,
   "metadata": {},
   "outputs": [
    {
     "name": "stdout",
     "output_type": "stream",
     "text": [
      "Patching with BlockSparseLinear 'encoder.layer.0.attention.output.dense' with density=0.25, in=768, out=768,bias=True \n",
      "Patching with BlockSparseLinear 'encoder.layer.0.intermediate.dense' with density=0.25, in=768, out=3072,bias=True \n",
      "Patching with BlockSparseLinear 'encoder.layer.0.output.dense' with density=0.25, in=3072, out=768,bias=True \n",
      "Patching with BlockSparseLinear 'encoder.layer.1.attention.output.dense' with density=0.25, in=768, out=768,bias=True \n",
      "Patching with BlockSparseLinear 'encoder.layer.1.intermediate.dense' with density=0.25, in=768, out=3072,bias=True \n",
      "Patching with BlockSparseLinear 'encoder.layer.1.output.dense' with density=0.25, in=3072, out=768,bias=True \n",
      "Patching with BlockSparseLinear 'encoder.layer.2.attention.output.dense' with density=0.25, in=768, out=768,bias=True \n",
      "Patching with BlockSparseLinear 'encoder.layer.2.intermediate.dense' with density=0.25, in=768, out=3072,bias=True \n",
      "Patching with BlockSparseLinear 'encoder.layer.2.output.dense' with density=0.25, in=3072, out=768,bias=True \n",
      "Patching with BlockSparseLinear 'encoder.layer.3.attention.output.dense' with density=0.25, in=768, out=768,bias=True \n",
      "Patching with BlockSparseLinear 'encoder.layer.3.intermediate.dense' with density=0.25, in=768, out=3072,bias=True \n",
      "Patching with BlockSparseLinear 'encoder.layer.3.output.dense' with density=0.25, in=3072, out=768,bias=True \n",
      "Patching with BlockSparseLinear 'encoder.layer.4.attention.output.dense' with density=0.25, in=768, out=768,bias=True \n",
      "Patching with BlockSparseLinear 'encoder.layer.4.intermediate.dense' with density=0.25, in=768, out=3072,bias=True \n",
      "Patching with BlockSparseLinear 'encoder.layer.4.output.dense' with density=0.25, in=3072, out=768,bias=True \n",
      "Patching with BlockSparseLinear 'encoder.layer.5.attention.output.dense' with density=0.25, in=768, out=768,bias=True \n",
      "Patching with BlockSparseLinear 'encoder.layer.5.intermediate.dense' with density=0.25, in=768, out=3072,bias=True \n",
      "Patching with BlockSparseLinear 'encoder.layer.5.output.dense' with density=0.25, in=3072, out=768,bias=True \n",
      "Patching with BlockSparseLinear 'encoder.layer.6.attention.output.dense' with density=0.25, in=768, out=768,bias=True \n",
      "Patching with BlockSparseLinear 'encoder.layer.6.intermediate.dense' with density=0.25, in=768, out=3072,bias=True \n",
      "Patching with BlockSparseLinear 'encoder.layer.6.output.dense' with density=0.25, in=3072, out=768,bias=True \n",
      "Patching with BlockSparseLinear 'encoder.layer.7.attention.output.dense' with density=0.5, in=768, out=768,bias=True \n",
      "Patching with BlockSparseLinear 'encoder.layer.7.intermediate.dense' with density=0.5, in=768, out=3072,bias=True \n",
      "Patching with BlockSparseLinear 'encoder.layer.7.output.dense' with density=0.5, in=3072, out=768,bias=True \n",
      "Patching with BlockSparseLinear 'encoder.layer.8.attention.output.dense' with density=0.5, in=768, out=768,bias=True \n",
      "Patching with BlockSparseLinear 'encoder.layer.8.intermediate.dense' with density=0.5, in=768, out=3072,bias=True \n",
      "Patching with BlockSparseLinear 'encoder.layer.8.output.dense' with density=0.5, in=3072, out=768,bias=True \n",
      "Patching with BlockSparseLinear 'encoder.layer.9.attention.output.dense' with density=0.5, in=768, out=768,bias=True \n",
      "Patching with BlockSparseLinear 'encoder.layer.9.intermediate.dense' with density=0.5, in=768, out=3072,bias=True \n",
      "Patching with BlockSparseLinear 'encoder.layer.9.output.dense' with density=0.5, in=3072, out=768,bias=True \n"
     ]
    }
   ],
   "source": [
    "from pytorch_block_sparse import BlockSparseModelPatcher\n",
    "\n",
    "# Re-initialize sparse BERT\n",
    "full_sparse_bert = AutoModel.from_pretrained(\"bert-base-uncased\")\n",
    "full_sparse_bert = sparse_convert(dense_sparse_convert(full_sparse_bert, get_sliding_window, window_size=64))\n",
    "\n",
    "# Create a model patcher\n",
    "mp = BlockSparseModelPatcher()\n",
    "\n",
    "# Use increasing density as the layer index increases\n",
    "mp.add_pattern(\"encoder\\.layer\\.[0-6]\\.intermediate\\.dense\", {\"density\":0.25})\n",
    "mp.add_pattern(\"encoder\\.layer\\.[0-6]\\.output\\.dense\", {\"density\":0.25})\n",
    "mp.add_pattern(\"encoder\\.layer\\.[0-6]\\.attention\\.output\\.dense\", {\"density\":0.25})\n",
    "mp.add_pattern(\"encoder\\.layer\\.[7-9]+\\.intermediate\\.dense\", {\"density\":0.5})\n",
    "mp.add_pattern(\"encoder\\.layer\\.[7-9]+\\.output\\.dense\", {\"density\":0.5})\n",
    "mp.add_pattern(\"encoder\\.layer\\.[7-9]+\\.attention\\.output\\.dense\", {\"density\":0.5})\n",
    "mp.patch_model(full_sparse_bert)"
   ]
  },
  {
   "cell_type": "code",
   "execution_count": 24,
   "metadata": {},
   "outputs": [
    {
     "data": {
      "text/plain": [
       "BertModel(\n",
       "  (embeddings): BertEmbeddings(\n",
       "    (word_embeddings): Embedding(30522, 768, padding_idx=0)\n",
       "    (position_embeddings): Embedding(512, 768)\n",
       "    (token_type_embeddings): Embedding(2, 768)\n",
       "    (LayerNorm): LayerNorm((768,), eps=1e-12, elementwise_affine=True)\n",
       "    (dropout): Dropout(p=0.1, inplace=False)\n",
       "  )\n",
       "  (encoder): BertEncoder(\n",
       "    (layer): ModuleList(\n",
       "      (0-6): 7 x BertLayer(\n",
       "        (attention): BertAttention(\n",
       "          (self): BertSelfAttention(\n",
       "            (query): BlockSparseFromLinear(\n",
       "              (weight): BlockSparseMatrix(shape=torch.Size([768, 768]), cols=torch.Size([70, 2]), row_start_ends_a=torch.Size([25]), data=torch.Size([2240, 32]), block_shape=(32, 32))\n",
       "            )\n",
       "            (key): BlockSparseFromLinear(\n",
       "              (weight): BlockSparseMatrix(shape=torch.Size([768, 768]), cols=torch.Size([70, 2]), row_start_ends_a=torch.Size([25]), data=torch.Size([2240, 32]), block_shape=(32, 32))\n",
       "            )\n",
       "            (value): BlockSparseFromLinear(\n",
       "              (weight): BlockSparseMatrix(shape=torch.Size([768, 768]), cols=torch.Size([70, 2]), row_start_ends_a=torch.Size([25]), data=torch.Size([2240, 32]), block_shape=(32, 32))\n",
       "            )\n",
       "            (dropout): Dropout(p=0.1, inplace=False)\n",
       "          )\n",
       "          (output): BertSelfOutput(\n",
       "            (dense): BlockSparseLinear(\n",
       "              (weight): BlockSparseMatrix(shape=torch.Size([768, 768]), cols=torch.Size([144, 2]), row_start_ends_a=torch.Size([25]), data=torch.Size([4608, 32]), block_shape=(32, 32))\n",
       "            )\n",
       "            (LayerNorm): LayerNorm((768,), eps=1e-12, elementwise_affine=True)\n",
       "            (dropout): Dropout(p=0.1, inplace=False)\n",
       "          )\n",
       "        )\n",
       "        (intermediate): BertIntermediate(\n",
       "          (dense): BlockSparseLinear(\n",
       "            (weight): BlockSparseMatrix(shape=torch.Size([3072, 768]), cols=torch.Size([576, 2]), row_start_ends_a=torch.Size([97]), data=torch.Size([18432, 32]), block_shape=(32, 32))\n",
       "          )\n",
       "          (intermediate_act_fn): GELUActivation()\n",
       "        )\n",
       "        (output): BertOutput(\n",
       "          (dense): BlockSparseLinear(\n",
       "            (weight): BlockSparseMatrix(shape=torch.Size([768, 3072]), cols=torch.Size([576, 2]), row_start_ends_a=torch.Size([25]), data=torch.Size([18432, 32]), block_shape=(32, 32))\n",
       "          )\n",
       "          (LayerNorm): LayerNorm((768,), eps=1e-12, elementwise_affine=True)\n",
       "          (dropout): Dropout(p=0.1, inplace=False)\n",
       "        )\n",
       "      )\n",
       "      (7-9): 3 x BertLayer(\n",
       "        (attention): BertAttention(\n",
       "          (self): BertSelfAttention(\n",
       "            (query): BlockSparseFromLinear(\n",
       "              (weight): BlockSparseMatrix(shape=torch.Size([768, 768]), cols=torch.Size([70, 2]), row_start_ends_a=torch.Size([25]), data=torch.Size([2240, 32]), block_shape=(32, 32))\n",
       "            )\n",
       "            (key): BlockSparseFromLinear(\n",
       "              (weight): BlockSparseMatrix(shape=torch.Size([768, 768]), cols=torch.Size([70, 2]), row_start_ends_a=torch.Size([25]), data=torch.Size([2240, 32]), block_shape=(32, 32))\n",
       "            )\n",
       "            (value): BlockSparseFromLinear(\n",
       "              (weight): BlockSparseMatrix(shape=torch.Size([768, 768]), cols=torch.Size([70, 2]), row_start_ends_a=torch.Size([25]), data=torch.Size([2240, 32]), block_shape=(32, 32))\n",
       "            )\n",
       "            (dropout): Dropout(p=0.1, inplace=False)\n",
       "          )\n",
       "          (output): BertSelfOutput(\n",
       "            (dense): BlockSparseLinear(\n",
       "              (weight): BlockSparseMatrix(shape=torch.Size([768, 768]), cols=torch.Size([288, 2]), row_start_ends_a=torch.Size([25]), data=torch.Size([9216, 32]), block_shape=(32, 32))\n",
       "            )\n",
       "            (LayerNorm): LayerNorm((768,), eps=1e-12, elementwise_affine=True)\n",
       "            (dropout): Dropout(p=0.1, inplace=False)\n",
       "          )\n",
       "        )\n",
       "        (intermediate): BertIntermediate(\n",
       "          (dense): BlockSparseLinear(\n",
       "            (weight): BlockSparseMatrix(shape=torch.Size([3072, 768]), cols=torch.Size([1152, 2]), row_start_ends_a=torch.Size([97]), data=torch.Size([36864, 32]), block_shape=(32, 32))\n",
       "          )\n",
       "          (intermediate_act_fn): GELUActivation()\n",
       "        )\n",
       "        (output): BertOutput(\n",
       "          (dense): BlockSparseLinear(\n",
       "            (weight): BlockSparseMatrix(shape=torch.Size([768, 3072]), cols=torch.Size([1152, 2]), row_start_ends_a=torch.Size([25]), data=torch.Size([36864, 32]), block_shape=(32, 32))\n",
       "          )\n",
       "          (LayerNorm): LayerNorm((768,), eps=1e-12, elementwise_affine=True)\n",
       "          (dropout): Dropout(p=0.1, inplace=False)\n",
       "        )\n",
       "      )\n",
       "      (10-11): 2 x BertLayer(\n",
       "        (attention): BertAttention(\n",
       "          (self): BertSelfAttention(\n",
       "            (query): BlockSparseFromLinear(\n",
       "              (weight): BlockSparseMatrix(shape=torch.Size([768, 768]), cols=torch.Size([70, 2]), row_start_ends_a=torch.Size([25]), data=torch.Size([2240, 32]), block_shape=(32, 32))\n",
       "            )\n",
       "            (key): BlockSparseFromLinear(\n",
       "              (weight): BlockSparseMatrix(shape=torch.Size([768, 768]), cols=torch.Size([70, 2]), row_start_ends_a=torch.Size([25]), data=torch.Size([2240, 32]), block_shape=(32, 32))\n",
       "            )\n",
       "            (value): BlockSparseFromLinear(\n",
       "              (weight): BlockSparseMatrix(shape=torch.Size([768, 768]), cols=torch.Size([70, 2]), row_start_ends_a=torch.Size([25]), data=torch.Size([2240, 32]), block_shape=(32, 32))\n",
       "            )\n",
       "            (dropout): Dropout(p=0.1, inplace=False)\n",
       "          )\n",
       "          (output): BertSelfOutput(\n",
       "            (dense): Linear(in_features=768, out_features=768, bias=True)\n",
       "            (LayerNorm): LayerNorm((768,), eps=1e-12, elementwise_affine=True)\n",
       "            (dropout): Dropout(p=0.1, inplace=False)\n",
       "          )\n",
       "        )\n",
       "        (intermediate): BertIntermediate(\n",
       "          (dense): Linear(in_features=768, out_features=3072, bias=True)\n",
       "          (intermediate_act_fn): GELUActivation()\n",
       "        )\n",
       "        (output): BertOutput(\n",
       "          (dense): Linear(in_features=3072, out_features=768, bias=True)\n",
       "          (LayerNorm): LayerNorm((768,), eps=1e-12, elementwise_affine=True)\n",
       "          (dropout): Dropout(p=0.1, inplace=False)\n",
       "        )\n",
       "      )\n",
       "    )\n",
       "  )\n",
       "  (pooler): BertPooler(\n",
       "    (dense): Linear(in_features=768, out_features=768, bias=True)\n",
       "    (activation): Tanh()\n",
       "  )\n",
       ")"
      ]
     },
     "execution_count": 24,
     "metadata": {},
     "output_type": "execute_result"
    }
   ],
   "source": [
    "full_sparse_bert"
   ]
  },
  {
   "cell_type": "code",
   "execution_count": 25,
   "metadata": {},
   "outputs": [
    {
     "name": "stdout",
     "output_type": "stream",
     "text": [
      "Final model parameters count=54997248\n",
      "Final model sparsity=0.49766055206762305\n"
     ]
    }
   ],
   "source": [
    "print(f\"Final model parameters count={full_sparse_bert.num_parameters()}\")\n",
    "print(f\"Final model sparsity={1 - full_sparse_bert.num_parameters() / bert_total_params}\")"
   ]
  },
  {
   "cell_type": "markdown",
   "metadata": {},
   "source": [
    "So by adding some sparsity to other linear layers within the encoder part of the model, we were able to get the total model sparsity to almost 50%. Now, unfortunately, I have no way of figuring out whether I made the layers too sparse, or whether they could be more sparse and still retain some of their performance. Though I was unable to implement them here, I did see some preliminary research online into models that can learn sparsity, choosing how sparse to make themselves as they are trained. It would be worth looking into these types of models for the other linear layers in the encoder structure."
   ]
  },
  {
   "cell_type": "markdown",
   "metadata": {},
   "source": [
    "### Run time"
   ]
  },
  {
   "cell_type": "code",
   "execution_count": 26,
   "metadata": {},
   "outputs": [
    {
     "data": {
      "application/vnd.jupyter.widget-view+json": {
       "model_id": "151fe96d2d644095bc6a23361a56a51d",
       "version_major": 2,
       "version_minor": 0
      },
      "text/plain": [
       "Resolving data files:   0%|          | 0/222 [00:00<?, ?it/s]"
      ]
     },
     "metadata": {},
     "output_type": "display_data"
    },
    {
     "data": {
      "application/vnd.jupyter.widget-view+json": {
       "model_id": "7fd13275e55649b2b84ad9fa13f2d38a",
       "version_major": 2,
       "version_minor": 0
      },
      "text/plain": [
       "Resolving data files:   0%|          | 0/25 [00:00<?, ?it/s]"
      ]
     },
     "metadata": {},
     "output_type": "display_data"
    },
    {
     "data": {
      "text/plain": [
       "Dataset({\n",
       "    features: ['input_ids', 'token_type_ids', 'attention_mask', 'next_sentence_label'],\n",
       "    num_rows: 10000\n",
       "})"
      ]
     },
     "execution_count": 26,
     "metadata": {},
     "output_type": "execute_result"
    }
   ],
   "source": [
    "from datasets import load_dataset\n",
    "\n",
    "# Initialize a data subset for testing (This data has been preprocessed and tokenized already)\n",
    "wikipedia = load_dataset(\"cayjobla/wikipedia-pretrain-processed\", split=\"train[:10000]\")\n",
    "wikipedia"
   ]
  },
  {
   "cell_type": "code",
   "execution_count": 27,
   "metadata": {},
   "outputs": [],
   "source": [
    "bert = AutoModel.from_pretrained(\"bert-base-uncased\")   # Reinitialize the dense model"
   ]
  },
  {
   "cell_type": "markdown",
   "metadata": {},
   "source": [
    "To test the time it takes for a forward pass of the model, I run multiple batches from the training data on each of the models and analyze the computation times of each."
   ]
  },
  {
   "cell_type": "code",
   "execution_count": 28,
   "metadata": {},
   "outputs": [],
   "source": [
    "import time\n",
    "\n",
    "def batch_data(data, batch_size=8):\n",
    "    \"\"\"Batch the data into batches of the specified size.\"\"\"\n",
    "    for i in range(0, len(data), batch_size):\n",
    "        yield data[i:i+batch_size]\n",
    "\n",
    "def run_test(model, data, batch_size=16, device=\"cuda\"):\n",
    "    \"\"\"Run a forward pass on the model with the given data.\"\"\"\n",
    "    model.to(device)\n",
    "\n",
    "    times = []\n",
    "    for batch in batch_data(data, batch_size=batch_size):\n",
    "        input_ids = torch.tensor(batch[\"input_ids\"]).to(device)\n",
    "        attention_mask = torch.tensor(batch[\"attention_mask\"]).to(device)\n",
    "        token_type_ids = torch.tensor(batch[\"token_type_ids\"]).to(device)\n",
    "    \n",
    "        start = time.time()\n",
    "        model(input_ids, attention_mask=attention_mask, token_type_ids=token_type_ids)\n",
    "        times.append(time.time() - start)\n",
    "    \n",
    "    model.to(\"cpu\")\n",
    "    return times"
   ]
  },
  {
   "cell_type": "code",
   "execution_count": 30,
   "metadata": {},
   "outputs": [
    {
     "data": {
      "image/png": "[encoded data removed]",
      "text/plain": [
       "<Figure size 640x480 with 1 Axes>"
      ]
     },
     "metadata": {},
     "output_type": "display_data"
    }
   ],
   "source": [
    "from matplotlib import pyplot as plt\n",
    "import numpy as np\n",
    "\n",
    "bert_time = run_test(bert, wikipedia, batch_size=16, device=\"cuda\")\n",
    "plt.hist(bert_time, bins=15)\n",
    "plt.title(f\"Average time taken by the dense BERT model: {round(np.mean(bert_time), 4)}\")\n",
    "plt.show()"
   ]
  },
  {
   "cell_type": "code",
   "execution_count": 31,
   "metadata": {},
   "outputs": [
    {
     "data": {
      "image/png": "[encoded data removed]",
      "text/plain": [
       "<Figure size 640x480 with 1 Axes>"
      ]
     },
     "metadata": {},
     "output_type": "display_data"
    }
   ],
   "source": [
    "sparse_bert_time = run_test(sparse_bert, wikipedia, batch_size=16, device=\"cuda\")\n",
    "plt.hist(sparse_bert_time, bins=15)\n",
    "plt.title(f\"Average time taken by the sparse attention BERT model: {round(np.mean(sparse_bert_time), 4)}\")\n",
    "plt.show()"
   ]
  },
  {
   "cell_type": "code",
   "execution_count": 32,
   "metadata": {},
   "outputs": [
    {
     "data": {
      "image/png": "[encoded data removed]",
      "text/plain": [
       "<Figure size 640x480 with 1 Axes>"
      ]
     },
     "metadata": {},
     "output_type": "display_data"
    }
   ],
   "source": [
    "full_sparse_bert_time = run_test(full_sparse_bert, wikipedia, batch_size=16, device=\"cuda\")\n",
    "plt.hist(full_sparse_bert_time, bins=15)\n",
    "plt.title(f\"Average time taken by the full sparse BERT model: {round(np.mean(full_sparse_bert_time), 4)}\")\n",
    "plt.show()"
   ]
  },
  {
   "cell_type": "markdown",
   "metadata": {},
   "source": [
    "From the above, it appears that the more sparse that a model is, the longer that it takes on average to run a batch of 16 training examples through the model. This is interesting, since we would expect the more sparse models to run faster since they are performing fewer FLOPS for each forward run through the model. Likely, this discrepancy is a result of the fact that dense tensor operations have been optimized over many years of use; whereas sparse matrix operations on GPUs are still being optimized and developed currently. Thus, while more total FLOPs are being done under the dense model, perhaps those FLOPs are much easier to parallelize on the GPU when compared to the sparse matrix operations."
   ]
  },
  {
   "cell_type": "markdown",
   "metadata": {},
   "source": [
    "## Fine-tuning the Sparse Model"
   ]
  },
  {
   "cell_type": "markdown",
   "metadata": {},
   "source": [
    "Here, I attempt to fine-tune the sparse model using the COLA task data from the GLUE benchmark dataset. This way, I can compare the results of the sparse model to the base BERT model, and determine how much performance is lost when making the attention mechanism sparse. In order to fine-tune the model, I use a modified version of a script that I have written for a different project. The script used here is called `finetune_sparse_bert.py`, and it can be found at my [Github repo](https://github.com/CayJoBla/SparseAttention) for this project."
   ]
  },
  {
   "cell_type": "code",
   "execution_count": 34,
   "metadata": {},
   "outputs": [
    {
     "name": "stdout",
     "output_type": "stream",
     "text": [
      "Loading the 'cola' split of the 'glue' dataset...\n",
      "Loading bert-base-uncased tokenizer...\n",
      "Loading bert-base-uncased model...\n",
      "Some weights of BertForSequenceClassification were not initialized from the model checkpoint at bert-base-uncased and are newly initialized: ['classifier.weight', 'classifier.bias']\n",
      "You should probably TRAIN this model on a down-stream task to be able to use it for predictions and inference.\n",
      "Sparsifying bert-base-uncased model...\n",
      "Defining training arguments...\n",
      "Preprocessing the dataset for the 'cola' task...\n",
      "Running tokenizer on dataset: 100%|█| 1043/1043 [00:00<00:00, 14668.25 examples/\n",
      "Load the evaluation metric for the 'cola' task...\n",
      "Initialize Trainer...\n",
      "Train the model...\n",
      "  0%|                                          | 1/1605 [00:00<12:01,  2.22it/s]\n",
      "  0%|                                                    | 0/66 [00:00<?, ?it/s]\u001b[A\n",
      "  8%|███▎                                        | 5/66 [00:00<00:01, 47.51it/s]\u001b[A\n",
      " 15%|██████▌                                    | 10/66 [00:00<00:01, 41.52it/s]\u001b[A\n",
      " 23%|█████████▊                                 | 15/66 [00:00<00:01, 39.86it/s]\u001b[A\n",
      " 30%|█████████████                              | 20/66 [00:00<00:01, 39.29it/s]\u001b[A\n",
      " 36%|███████████████▋                           | 24/66 [00:00<00:01, 39.00it/s]\u001b[A\n",
      " 42%|██████████████████▏                        | 28/66 [00:00<00:00, 38.64it/s]\u001b[A\n",
      " 48%|████████████████████▊                      | 32/66 [00:00<00:00, 38.42it/s]\u001b[A\n",
      " 55%|███████████████████████▍                   | 36/66 [00:00<00:00, 38.17it/s]\u001b[A\n",
      " 61%|██████████████████████████                 | 40/66 [00:01<00:00, 38.02it/s]\u001b[A\n",
      " 67%|████████████████████████████▋              | 44/66 [00:01<00:00, 38.08it/s]\u001b[A\n",
      " 73%|███████████████████████████████▎           | 48/66 [00:01<00:00, 38.04it/s]\u001b[A\n",
      " 79%|█████████████████████████████████▉         | 52/66 [00:01<00:00, 38.08it/s]\u001b[A\n",
      " 85%|████████████████████████████████████▍      | 56/66 [00:01<00:00, 38.17it/s]\u001b[A\n",
      " 91%|███████████████████████████████████████    | 60/66 [00:01<00:00, 38.15it/s]\u001b[A\n",
      "                                                                                \u001b[A\n",
      "\u001b[A{'eval_loss': 0.6782962679862976, 'eval_matthews_correlation': 0.0, 'eval_runtime': 1.723, 'eval_samples_per_second': 605.333, 'eval_steps_per_second': 38.305, 'epoch': 0.0}\n",
      "  0%|                                          | 1/1605 [00:02<12:01,  2.22it/s]\n",
      "100%|███████████████████████████████████████████| 66/66 [00:01<00:00, 37.99it/s]\u001b[A\n",
      "{'loss': 0.6303, 'learning_rate': 2.8130841121495327e-05, 'epoch': 0.19}        \u001b[A\n",
      "{'loss': 0.609, 'learning_rate': 2.6261682242990656e-05, 'epoch': 0.37}         \n",
      "{'loss': 0.6025, 'learning_rate': 2.4392523364485982e-05, 'epoch': 0.56}        \n",
      "{'loss': 0.602, 'learning_rate': 2.2523364485981308e-05, 'epoch': 0.75}         \n",
      "{'loss': 0.6115, 'learning_rate': 2.0654205607476634e-05, 'epoch': 0.93}        \n",
      " 33%|█████████████▎                          | 534/1605 [00:47<01:30, 11.83it/s]\n",
      "  0%|                                                    | 0/66 [00:00<?, ?it/s]\u001b[A\n",
      "  8%|███▎                                        | 5/66 [00:00<00:01, 48.03it/s]\u001b[A\n",
      " 15%|██████▌                                    | 10/66 [00:00<00:01, 41.99it/s]\u001b[A\n",
      " 23%|█████████▊                                 | 15/66 [00:00<00:01, 40.18it/s]\u001b[A\n",
      " 30%|█████████████                              | 20/66 [00:00<00:01, 39.56it/s]\u001b[A\n",
      " 36%|███████████████▋                           | 24/66 [00:00<00:01, 39.01it/s]\u001b[A\n",
      " 42%|██████████████████▏                        | 28/66 [00:00<00:00, 38.62it/s]\u001b[A\n",
      " 48%|████████████████████▊                      | 32/66 [00:00<00:00, 38.15it/s]\u001b[A\n",
      " 55%|███████████████████████▍                   | 36/66 [00:00<00:00, 38.23it/s]\u001b[A\n",
      " 61%|██████████████████████████                 | 40/66 [00:01<00:00, 38.43it/s]\u001b[A\n",
      " 67%|████████████████████████████▋              | 44/66 [00:01<00:00, 38.11it/s]\u001b[A\n",
      " 73%|███████████████████████████████▎           | 48/66 [00:01<00:00, 38.07it/s]\u001b[A\n",
      " 79%|█████████████████████████████████▉         | 52/66 [00:01<00:00, 38.25it/s]\u001b[A\n",
      " 85%|████████████████████████████████████▍      | 56/66 [00:01<00:00, 38.47it/s]\u001b[A\n",
      " 91%|███████████████████████████████████████    | 60/66 [00:01<00:00, 38.47it/s]\u001b[A\n",
      "                                                                                \u001b[A\n",
      "\u001b[A{'eval_loss': 0.6147463917732239, 'eval_matthews_correlation': 0.0, 'eval_runtime': 1.7169, 'eval_samples_per_second': 607.479, 'eval_steps_per_second': 38.441, 'epoch': 1.0}\n",
      " 33%|█████████████▎                          | 535/1605 [00:49<01:30, 11.83it/s]\n",
      "100%|███████████████████████████████████████████| 66/66 [00:01<00:00, 38.26it/s]\u001b[A\n",
      "{'loss': 0.6129, 'learning_rate': 1.8785046728971963e-05, 'epoch': 1.12}        \u001b[A\n",
      "{'loss': 0.6091, 'learning_rate': 1.691588785046729e-05, 'epoch': 1.31}         \n",
      "{'loss': 0.5986, 'learning_rate': 1.5046728971962615e-05, 'epoch': 1.5}         \n",
      "{'loss': 0.5924, 'learning_rate': 1.3177570093457945e-05, 'epoch': 1.68}        \n",
      "{'loss': 0.5775, 'learning_rate': 1.130841121495327e-05, 'epoch': 1.87}         \n",
      " 67%|██████████████████████████             | 1070/1605 [01:34<00:42, 12.64it/s]\n",
      "  0%|                                                    | 0/66 [00:00<?, ?it/s]\u001b[A\n",
      "  8%|███▎                                        | 5/66 [00:00<00:01, 47.49it/s]\u001b[A\n",
      " 15%|██████▌                                    | 10/66 [00:00<00:01, 41.77it/s]\u001b[A\n",
      " 23%|█████████▊                                 | 15/66 [00:00<00:01, 39.88it/s]\u001b[A\n",
      " 30%|█████████████                              | 20/66 [00:00<00:01, 39.27it/s]\u001b[A\n",
      " 36%|███████████████▋                           | 24/66 [00:00<00:01, 38.81it/s]\u001b[A\n",
      " 42%|██████████████████▏                        | 28/66 [00:00<00:00, 38.81it/s]\u001b[A\n",
      " 48%|████████████████████▊                      | 32/66 [00:00<00:00, 38.65it/s]\u001b[A\n",
      " 55%|███████████████████████▍                   | 36/66 [00:00<00:00, 38.33it/s]\u001b[A\n",
      " 61%|██████████████████████████                 | 40/66 [00:01<00:00, 38.14it/s]\u001b[A\n",
      " 67%|████████████████████████████▋              | 44/66 [00:01<00:00, 38.20it/s]\u001b[A\n",
      " 73%|███████████████████████████████▎           | 48/66 [00:01<00:00, 38.33it/s]\u001b[A\n",
      " 79%|█████████████████████████████████▉         | 52/66 [00:01<00:00, 37.81it/s]\u001b[A\n",
      " 85%|████████████████████████████████████▍      | 56/66 [00:01<00:00, 37.87it/s]\u001b[A\n",
      " 91%|███████████████████████████████████████    | 60/66 [00:01<00:00, 37.83it/s]\u001b[A\n",
      "                                                                                \u001b[A\n",
      "\u001b[A{'eval_loss': 0.6063240766525269, 'eval_matthews_correlation': 0.047280793684450845, 'eval_runtime': 1.7246, 'eval_samples_per_second': 604.763, 'eval_steps_per_second': 38.269, 'epoch': 2.0}\n",
      " 67%|██████████████████████████             | 1070/1605 [01:36<00:42, 12.64it/s]\n",
      "100%|███████████████████████████████████████████| 66/66 [00:01<00:00, 38.00it/s]\u001b[A\n",
      "{'loss': 0.5839, 'learning_rate': 9.439252336448598e-06, 'epoch': 2.06}         \u001b[A\n",
      "{'loss': 0.5515, 'learning_rate': 7.570093457943924e-06, 'epoch': 2.24}         \n",
      "{'loss': 0.5445, 'learning_rate': 5.700934579439252e-06, 'epoch': 2.43}         \n",
      "{'loss': 0.5215, 'learning_rate': 3.831775700934579e-06, 'epoch': 2.62}         \n",
      "{'loss': 0.5269, 'learning_rate': 1.9626168224299064e-06, 'epoch': 2.8}         \n",
      "{'loss': 0.525, 'learning_rate': 9.345794392523364e-08, 'epoch': 2.99}          \n",
      "100%|██████████████████████████████████████▉| 1604/1605 [02:21<00:00, 11.88it/s]\n",
      "  0%|                                                    | 0/66 [00:00<?, ?it/s]\u001b[A\n",
      "  8%|███▎                                        | 5/66 [00:00<00:01, 47.01it/s]\u001b[A\n",
      " 15%|██████▌                                    | 10/66 [00:00<00:01, 41.16it/s]\u001b[A\n",
      " 23%|█████████▊                                 | 15/66 [00:00<00:01, 39.72it/s]\u001b[A\n",
      " 30%|█████████████                              | 20/66 [00:00<00:01, 39.20it/s]\u001b[A\n",
      " 36%|███████████████▋                           | 24/66 [00:00<00:01, 38.71it/s]\u001b[A\n",
      " 42%|██████████████████▏                        | 28/66 [00:00<00:00, 38.64it/s]\u001b[A\n",
      " 48%|████████████████████▊                      | 32/66 [00:00<00:00, 38.61it/s]\u001b[A\n",
      " 55%|███████████████████████▍                   | 36/66 [00:00<00:00, 38.60it/s]\u001b[A\n",
      " 61%|██████████████████████████                 | 40/66 [00:01<00:00, 38.49it/s]\u001b[A\n",
      " 67%|████████████████████████████▋              | 44/66 [00:01<00:00, 38.04it/s]\u001b[A\n",
      " 73%|███████████████████████████████▎           | 48/66 [00:01<00:00, 37.95it/s]\u001b[A\n",
      " 79%|█████████████████████████████████▉         | 52/66 [00:01<00:00, 38.20it/s]\u001b[A\n",
      " 85%|████████████████████████████████████▍      | 56/66 [00:01<00:00, 38.15it/s]\u001b[A\n",
      " 91%|███████████████████████████████████████    | 60/66 [00:01<00:00, 38.31it/s]\u001b[A\n",
      "                                                                                \u001b[A\n",
      "\u001b[A{'eval_loss': 0.6338092088699341, 'eval_matthews_correlation': 0.09739040474377686, 'eval_runtime': 1.7276, 'eval_samples_per_second': 603.726, 'eval_steps_per_second': 38.203, 'epoch': 3.0}\n",
      "100%|███████████████████████████████████████| 1605/1605 [02:23<00:00, 11.88it/s]\n",
      "100%|███████████████████████████████████████████| 66/66 [00:01<00:00, 38.37it/s]\u001b[A\n",
      "{'train_runtime': 143.7737, 'train_samples_per_second': 178.426, 'train_steps_per_second': 11.163, 'train_loss': 0.5809513051933217, 'epoch': 3.0}\n",
      "100%|███████████████████████████████████████| 1605/1605 [02:23<00:00, 11.16it/s]\n",
      "Save the model...\n",
      "***** train metrics *****\n",
      "  epoch                    =        3.0\n",
      "  train_loss               =      0.581\n",
      "  train_runtime            = 0:02:23.77\n",
      "  train_samples_per_second =    178.426\n",
      "  train_steps_per_second   =     11.163\n",
      "Evaluate the model on the validation set...\n",
      "100%|███████████████████████████████████████████| 66/66 [00:01<00:00, 38.82it/s]\n",
      "***** eval metrics *****\n",
      "  epoch                     =        3.0\n",
      "  eval_loss                 =     0.6338\n",
      "  eval_matthews_correlation =     0.0974\n",
      "  eval_runtime              = 0:00:01.72\n",
      "  eval_samples              =       1043\n",
      "  eval_samples_per_second   =    603.624\n",
      "  eval_steps_per_second     =     38.197\n",
      "Predict the test set labels...\n",
      "100%|███████████████████████████████████████████| 67/67 [00:01<00:00, 39.32it/s]\n"
     ]
    }
   ],
   "source": [
    "!python finetune_sparse_bert.py \\\n",
    "  --tokenizer bert-base-uncased \\\n",
    "  --task cola \\\n",
    "  --batch_size 16 \\\n",
    "  --learning_rate 3e-5 \\\n",
    "  --num_epochs 3 \\\n",
    "  --logging_steps 100 \\\n",
    "  --output_dir bert-base-uncased-sparse-64 \\\n",
    "  --run_name sparse-glue-cola \\\n",
    "  --seed 916 \\\n",
    "  -v"
   ]
  },
  {
   "cell_type": "markdown",
   "metadata": {},
   "source": [
    "From the training above, we got a matthew's correlation (the metric for this task) of 0.0974. Unfortunately, according to the [GLUE leaderboard](https://gluebenchmark.com/leaderboard) the matthew's correlation for the base BERT model is generally between 0.55 and 0.6, so we are severely underperforming with this sparse model. Therefore, it appears that the sparse attention model on this context length does not give us great performance on the BERT model."
   ]
  },
  {
   "cell_type": "markdown",
   "metadata": {},
   "source": [
    "## Results, Analysis, and Conclusion"
   ]
  },
  {
   "cell_type": "markdown",
   "metadata": {},
   "source": [
    "### Synopsis"
   ]
  },
  {
   "cell_type": "markdown",
   "metadata": {},
   "source": [
    "In this project, we took the base BERT model and applied a sliding window sparsity pattern to the attention layers of the model with the goal of reducing the size of the model instead of increasing the model's context length. First, we applied the sparsity pattern to the dense linear attention layers, keeping the remaining weights as they are found in the base BERT model. Next, from the psuedo-sparse dense layers, we created true block-sparse linear layers using a modified version of the `BlockSparseLinear` module found in the `pytorch-block-sparse` package. Comparing the resulting sparse attention BERT model to the base BERT model, we found that despite the fact that our attention layers had a sparsity of around 88%, the entire sparse attention model only had a sparsity of around 17% due to the existence of many larger dense linear layers within the model. Because of this, we decided to try using the `BlockSparseModelPatcher` from the `pytorch-block-sparse` package to apply random block sparsity to the other dense BERT model layers. Though we cannot be sure of the performance of the fully sparse model, we applied decreasing sparsity to the successive encoder layers (25% -> 50% -> 100% density), reaching a total model sparsity of around 50%. Next, we compared the run times of the different models (the dense BERT model, the sparse attention BERT model, and the fully sparse BERT model), and found that--in contrast to our expectations--the sparser models on average took longer to do a forward pass with a batch of 16 training samples than the denser models. After running these comparisons of sparsity and run time, we finally decided to compare the performance of the sparse attention BERT model to the base BERT model on the COLA task from the GLUE benchmark dataset. After fine-tuning for a few epochs on this task, we found that the sparse attention model performed significantly worse than the dense model (according to the matthew's correlation metric), getting a score of 0.09 while the base BERT model generally scores around 0.55-0.60."
   ]
  },
  {
   "cell_type": "markdown",
   "metadata": {},
   "source": [
    "### Analysis"
   ]
  },
  {
   "cell_type": "markdown",
   "metadata": {},
   "source": [
    "All-in-all, it seems that sparse attention layers as they currently stand are not an efficient way to reduce the size of a model while maintaining its performance. There are a variety of reasons as to why that may be:\n",
    "1. The attention sparcity pattern that we employed only used a sliding window, and it did not take into account dilation in the sliding windows or the use of global attention for certain tokens, as was used in the Longformer paper. The reason for this is that the block-sparse matrix implementation that we decided to use would not work well with these sparsity patterns, and would result in blocks within the attention mechanism that were themselves psuedo-sparse (densely-stored blocks, but with lots of zeros).\n",
    "2. The sparse matrix operations are not as efficient as those for dense matrices. At the point of writing this conclusion, research is being done into a variety of different implementations of sparse matrix operations within CUDA; however, many of them still suffer from inefficiencies. Recently, NVIDIA has released multiple articles, such as [this one](https://developer.nvidia.com/blog/accelerating-matrix-multiplication-with-block-sparse-format-and-nvidia-tensor-cores/), about recent advances with block-sparse matrix operations on NVIDIA GPUs; however, not much work has been done yet on getting those to work well with Pytorch. In fact, the provided article recommends the package that we used as the Pytorch implementation of block-sparse matrix operations, depite the fact that the package was last updated in 2020.\n",
    "3. While the block-sparse matrix format is probably the best sparse implementation for large networks, it is not the best way to store sparse matrices for sliding-window attention. Since the sliding window sparse attention pattern deals with diagonals, it would be better suited to a form of sparse matrix that stores the diagonal and off-diagonals of the layer as vectors. This way, no unnecessary values are stored, and sparsity can be maximized in those layers. Unfortunately, because this is not a common sparse matrix type, it likely will not get a ton of research, and so the sparse matrix operations for this form will not be very efficient either.\n",
    "4. Perhaps the sparse attention model did not perform well because it needed more training time. Here, we only fine-tuned the model, since it was initialized with the weights from the base BERT model, but it is possible that the sparse model needs enough data to again pretrain the model since the model format has changed so drastically.\n",
    "5. While the sparse attention form worked well for the long context models in the Longformer paper and (potentially) GPT 4 Turbo, it is possible that the sparse attention pattern is not suited for smaller context sizes, and long context models only benefit from the sparsity *because* of their longer context. It is possible that for shorter context lengths, more attention needs to be placed on the tokens so that the meaning can be better extracted from the smaller context."
   ]
  },
  {
   "cell_type": "markdown",
   "metadata": {},
   "source": [
    "### Future Research"
   ]
  },
  {
   "cell_type": "markdown",
   "metadata": {},
   "source": [
    "With more time and resources, I would look at first implementing global attention alongside the sliding window attention, as seen in the Longformer document, and train the sparse model for a much longer time to determine whether the performance of the model can be improved to the level of the base BERT model. If significant improvement can be made, more research should be done into diagonal-sparse matrices and optimizing the sparse matrix operations for those matrices on the GPU so that models can be sparsified while maintaining or decreasing run time. Furthermore, while doing this project, I came across a few WIP implementations of linear layers for these models that can learn sparsity. If this idea appears to work decently well, some more research should be done into this idea so that other non-attention layers of these language models can be made sparse without drastically impacting the overall model performance."
   ]
  },
  {
   "cell_type": "markdown",
   "metadata": {},
   "source": []
  }
 ],
 "metadata": {
  "kernelspec": {
   "display_name": ".venv",
   "language": "python",
   "name": "python3"
  },
  "language_info": {
   "codemirror_mode": {
    "name": "ipython",
    "version": 3
   },
   "file_extension": ".py",
   "mimetype": "text/x-python",
   "name": "python",
   "nbconvert_exporter": "python",
   "pygments_lexer": "ipython3",
   "version": "3.10.12"
  }
 },
 "nbformat": 4,
 "nbformat_minor": 2
}
